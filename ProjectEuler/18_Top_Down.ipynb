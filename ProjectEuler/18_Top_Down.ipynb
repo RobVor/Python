{
 "cells": [
  {
   "cell_type": "code",
   "execution_count": 1,
   "metadata": {},
   "outputs": [
    {
     "name": "stdout",
     "output_type": "stream",
     "text": [
      "1064\n"
     ]
    }
   ],
   "source": [
    "\"\"\"By starting at the top of the triangle below and moving to adjacent numbers on the row below, the maximum total from top to bottom is 23.\n",
    "\n",
    "3\n",
    "7 4\n",
    "2 4 6\n",
    "8 5 9 3\n",
    "\n",
    "That is, 3 + 7 + 4 + 9 = 23.\n",
    "\n",
    "Find the maximum total from top to bottom of the triangle below:\n",
    "\n",
    "75\n",
    "95 64\n",
    "17 47 82\n",
    "18 35 87 10\n",
    "20 04 82 47 65\n",
    "19 01 23 75 03 34\n",
    "88 02 77 73 07 63 67\n",
    "99 65 04 28 06 16 70 92\n",
    "41 41 26 56 83 40 80 70 33\n",
    "41 48 72 33 47 32 37 16 94 29\n",
    "53 71 44 65 25 43 91 52 97 51 14\n",
    "70 11 33 28 77 73 17 78 39 68 17 57\n",
    "91 71 52 38 17 14 91 43 58 50 27 29 48\n",
    "63 66 04 68 89 53 67 30 73 16 69 87 40 31\n",
    "04 62 98 27 23 09 70 98 73 93 38 53 60 04 23\n",
    "\n",
    "NOTE: As there are only 16384 routes, it is possible to solve this problem by trying every route. However, Problem 67, is the same challenge with a triangle containing one-hundred rows; it cannot be solved by brute force, and requires a clever method! ;o)\"\"\"\n",
    "\n",
    "Triag = {1:[75],2:[95,64],3:[17,47,82],4:[18,35,87,10],5:[20,4,82,47,65],6:[19,1,23,75,3,34],7:[88,2,77,73,7,63,67],8:[99,65,4,28,6,16,70,92],9:[41,41,26,56,83,40,80,70,33],10:[41,48,72,33,47,32,37,16,94,29],11:[53,71,44,65,25,43,91,52,97,51,14],12:[70,11,33,28,77,73,17,78,39,68,17,57],13:[91,71,52,38,17,14,91,43,58,50,27,29,48],14:[63,66,4,68,89,53,67,30,73,16,69,87,40,31],15:[4,62,98,27,23,9,70,98,73,93,38,53,60,4,23]}\n",
    "\n",
    "def MaxValuePath(vals):\n",
    "    path = []\n",
    "    SumOfPath = 0\n",
    "    idx = 0\n",
    "    for i in vals:\n",
    "        if len(vals[i]) == 1:\n",
    "            path.append(vals[i][0])\n",
    "        elif len(vals[i]) ==2:\n",
    "            path.append(max(vals[i]))\n",
    "            idx = vals[i].index(max(vals[i]))\n",
    "        else:\n",
    "            if idx == 0:\n",
    "                path.append(max(vals[i][0:(idx+2)]))\n",
    "                idx = vals[i].index(max(vals[i][0:(idx+2)]))\n",
    "            else:\n",
    "                path.append(max(vals[i][(idx):(idx+2)]))\n",
    "                if vals[i].index(max(vals[i][(idx):(idx+2)])) in range(idx, idx+2):\n",
    "                    idx = vals[i].index(max(vals[i][(idx):(idx+2)]))\n",
    "    for i in path:\n",
    "        SumOfPath += i\n",
    "    return SumOfPath\n",
    "        \n",
    "print(MaxValuePath(Triag))"
   ]
  }
 ],
 "metadata": {
  "kernelspec": {
   "display_name": "Python 3",
   "language": "python",
   "name": "python3"
  },
  "language_info": {
   "codemirror_mode": {
    "name": "ipython",
    "version": 3
   },
   "file_extension": ".py",
   "mimetype": "text/x-python",
   "name": "python",
   "nbconvert_exporter": "python",
   "pygments_lexer": "ipython3",
   "version": "3.6.3"
  }
 },
 "nbformat": 4,
 "nbformat_minor": 2
}
