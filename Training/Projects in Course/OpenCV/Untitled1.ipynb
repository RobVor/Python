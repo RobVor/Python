{
 "cells": [
  {
   "cell_type": "code",
   "execution_count": 1,
   "metadata": {},
   "outputs": [
    {
     "name": "stdout",
     "output_type": "stream",
     "text": [
      "[[[187 187 187]\n",
      "  [158 158 158]\n",
      "  [104 104 104]\n",
      "  [121 121 121]\n",
      "  [143 143 143]]\n",
      "\n",
      " [[198 198 198]\n",
      "  [125 125 125]\n",
      "  [255 255 255]\n",
      "  [255 255 255]\n",
      "  [147 147 147]]\n",
      "\n",
      " [[209 209 209]\n",
      "  [134 134 134]\n",
      "  [255 255 255]\n",
      "  [ 97  97  97]\n",
      "  [182 182 182]]]\n",
      "[[237 253 130 ..., 136 105 250]\n",
      " [127  95 195 ..., 199 245 195]\n",
      " [234  86  41 ..., 136 131 225]\n",
      " ..., \n",
      " [205  37  48 ..., 124  39  25]\n",
      " [ 80  96  24 ..., 126 236  98]\n",
      " [ 33  99 244 ..., 210 244  29]]\n"
     ]
    }
   ],
   "source": [
    "import cv2\n",
    "import random\n",
    "import numpy\n",
    "import itertools\n",
    "import pandas\n",
    "\n",
    "ImgSource = cv2.imread(\"smallgray.png\",1)               # Img reading as gray scale (0)\n",
    "print(ImgSource)\n",
    "\n",
    "ImgNew = []                                             # Img creation as gray scale\n",
    "\n",
    "for i in range(64):\n",
    "    ImgNew.append([])\n",
    "    for j in range(64):\n",
    "        ImgNew[i].append(random.randrange(255))\n",
    "\n",
    "ImgNew = numpy.asarray(ImgNew)\n",
    "print(ImgNew)\n",
    "cv2.imwrite(\"NewGen.png\",ImgNew)\n",
    "\n",
    "ImgNew2 = []\n",
    "\n",
    "for k in range(3):\n",
    "    ImgNew2.append([])\n",
    "    for l in range(64):\n",
    "        ImgNew2[k].append(random.randrange(255))\n",
    "\n",
    "for m in range(len(ImgNew2)):\n",
    "    ImgFinal = numpy.asarray([x for item in ImgNew2[m] for x in itertools.repeat(item, 64)])"
   ]
  },
  {
   "cell_type": "code",
   "execution_count": 2,
   "metadata": {},
   "outputs": [
    {
     "data": {
      "text/plain": [
       "array([187, 187, 187, ..., 123, 123, 123])"
      ]
     },
     "execution_count": 2,
     "metadata": {},
     "output_type": "execute_result"
    }
   ],
   "source": [
    "ImgFinal"
   ]
  }
 ],
 "metadata": {
  "kernelspec": {
   "display_name": "Python 3",
   "language": "python",
   "name": "python3"
  },
  "language_info": {
   "codemirror_mode": {
    "name": "ipython",
    "version": 3
   },
   "file_extension": ".py",
   "mimetype": "text/x-python",
   "name": "python",
   "nbconvert_exporter": "python",
   "pygments_lexer": "ipython3",
   "version": "3.6.3"
  }
 },
 "nbformat": 4,
 "nbformat_minor": 2
}
