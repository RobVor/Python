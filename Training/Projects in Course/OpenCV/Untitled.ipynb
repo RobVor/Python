{
 "cells": [
  {
   "cell_type": "code",
   "execution_count": 2,
   "metadata": {},
   "outputs": [],
   "source": [
    "import cv2"
   ]
  },
  {
   "cell_type": "code",
   "execution_count": 7,
   "metadata": {},
   "outputs": [
    {
     "data": {
      "text/plain": [
       "array([[149, 149, 149, ..., 149, 149, 149],\n",
       "       [149, 149, 149, ..., 149, 149, 149],\n",
       "       [149, 149, 149, ..., 149, 149, 149],\n",
       "       ..., \n",
       "       [149, 149, 149, ..., 149, 149, 149],\n",
       "       [149, 149, 149, ..., 149, 149, 149],\n",
       "       [149, 149, 149, ..., 149, 149, 149]], dtype=uint8)"
      ]
     },
     "execution_count": 7,
     "metadata": {},
     "output_type": "execute_result"
    }
   ],
   "source": [
    "Img_Source = cv2.imread(\"doom.png\",0)\n",
    "Img_Source"
   ]
  },
  {
   "cell_type": "code",
   "execution_count": null,
   "metadata": {},
   "outputs": [],
   "source": []
  }
 ],
 "metadata": {
  "kernelspec": {
   "display_name": "Python 3",
   "language": "python",
   "name": "python3"
  },
  "language_info": {
   "codemirror_mode": {
    "name": "ipython",
    "version": 3
   },
   "file_extension": ".py",
   "mimetype": "text/x-python",
   "name": "python",
   "nbconvert_exporter": "python",
   "pygments_lexer": "ipython3",
   "version": "3.6.3"
  }
 },
 "nbformat": 4,
 "nbformat_minor": 2
}
