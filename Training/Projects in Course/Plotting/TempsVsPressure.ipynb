{
 "cells": [
  {
   "cell_type": "code",
   "execution_count": 44,
   "metadata": {},
   "outputs": [],
   "source": [
    "from bokeh.plotting import figure, output_file, show\n",
    "import pandas\n",
    "\n",
    "xlSource = pandas.ExcelFile(\"verlegenhuken.xlsx\")\n",
    "DataFrame = xlSource.parse(\"Ark1\")\n",
    "#DataFrame\n",
    "\n",
    "plot = figure(plot_width=550,plot_height=450, tools=\"\")\n",
    "\n",
    "plot.title.text = \"Temperature and Pressure\"\n",
    "plot.title.align = \"center\"\n",
    "plot.title.text_color = \"gray\"\n",
    "plot.title.text_font = \"arial\"\n",
    "plot.title.text_font_size = \"20pt\"\n",
    "\n",
    "plot.xaxis.minor_tick_line_color = None\n",
    "plot.xaxis.axis_label = \"Temperature (°C)\"\n",
    "plot.xaxis.axis_label_text_font_style = \"normal\"\n",
    "plot.xaxis.axis_label_text_font = \"arial\"\n",
    "plot.xaxis.axis_label_text_font_size = \"16pt\"\n",
    "\n",
    "plot.yaxis.minor_tick_line_color = None\n",
    "plot.yaxis.axis_label = \"Pressure (hPa)\"\n",
    "plot.yaxis.axis_label_text_font_style = \"normal\"\n",
    "plot.yaxis.axis_label_text_font = \"arial\"\n",
    "plot.yaxis.axis_label_text_font_size = \"16pt\"\n",
    "\n",
    "plot.circle([i/10 for i in DataFrame[\"Temperature\"]],[j/10 for j in DataFrame[\"Pressure\"]],size=2,color=\"steelblue\")\n",
    "show(plot)\n",
    "#help(plot)"
   ]
  }
 ],
 "metadata": {
  "kernelspec": {
   "display_name": "Python 3",
   "language": "python",
   "name": "python3"
  },
  "language_info": {
   "codemirror_mode": {
    "name": "ipython",
    "version": 3
   },
   "file_extension": ".py",
   "mimetype": "text/x-python",
   "name": "python",
   "nbconvert_exporter": "python",
   "pygments_lexer": "ipython3",
   "version": "3.6.3"
  }
 },
 "nbformat": 4,
 "nbformat_minor": 2
}
